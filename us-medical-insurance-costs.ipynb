{
 "cells": [
  {
   "cell_type": "markdown",
   "metadata": {},
   "source": [
    "# **U.S Medical Insurance Cost**\n",
    "\n",
    "## <u>Part 1: Data Reading and Preparation</u>\n",
    "\n",
    "The `csv` module is imported to read raw data from the `insurance.csv` file using `csv.DictReader()` method. Initially all data are in string format. Therefore, the processed data is added to the `dataset` list by typecasting the variables in the following manner:\n",
    "\n",
    "<center>\n",
    "\n",
    "|<center>Variable</center> | <center>Data Type</center> | <center>Variable Type</center> |\n",
    "|-|-|-|\n",
    "| `age` | int | Scale |\n",
    "| `sex` | bool (0 for 'male' and 1 for 'female') | Nominal |\n",
    "| `bmi` | float | Ratio |\n",
    "| `children` | int | Ordinal |\n",
    "| `smoker` | bool (0 for 'no' and 1 for 'yes') | Nominal |\n",
    "| `region` | int (1 for 'northeast', 2 for 'northwest' , <br>3 for 'southeast', 4 for 'southwest') | Nominal |\n",
    "| `charges` | float | Ratio |\n",
    "\n",
    "</center>\n",
    "\n",
    "Identified the regions uniquely by first separating the `region` column in the `insurance.csv` to `regions.txt` file. Then the following command was executed in terminal to get the unique names of the regions:\n",
    "```\n",
    "sort regions.txt | uniq\n",
    "```\n",
    "This command gave the unique names of the regions based on which the numeric codes were provided."
   ]
  },
  {
   "cell_type": "code",
   "execution_count": 58,
   "metadata": {},
   "outputs": [
    {
     "name": "stdout",
     "output_type": "stream",
     "text": [
      "Dataset contains 1338 samples\n"
     ]
    }
   ],
   "source": [
    "import csv\n",
    "\n",
    "dataset = []  # dict to store the raw contents\n",
    "\n",
    "with open(\"insurance.csv\", \"r\") as file:\n",
    "    for row in csv.DictReader(file):\n",
    "        data = {}\n",
    "        for header, value in row.items():\n",
    "            if header == \"age\":\n",
    "                data[header] = int(value)\n",
    "            elif header == \"sex\":\n",
    "                data[header] = 0 if value == \"male\" else 1\n",
    "            elif header == \"bmi\":\n",
    "                data[header] = float(value)\n",
    "            elif header == \"children\":\n",
    "                data[header] = int(value)\n",
    "            elif header == \"smoker\":\n",
    "                data[header] = 0 if value == \"no\" else 1\n",
    "            elif header == \"region\":\n",
    "                if value == \"northeast\":\n",
    "                    data[header] = 1\n",
    "                elif value == \"northwest\":\n",
    "                    data[header] = 2\n",
    "                elif value == \"southeast\":\n",
    "                    data[header] = 3\n",
    "                elif value == \"southwest\":\n",
    "                    data[header] = 4\n",
    "            elif header == \"charges\":\n",
    "                data[header] = float(value)\n",
    "        dataset.append(data)\n",
    "\n",
    "print(\"Dataset contains\", len(dataset), \"samples\")"
   ]
  },
  {
   "cell_type": "markdown",
   "metadata": {},
   "source": [
    "## <u>Part 2: Summary Statistics</u>\n",
    "\n",
    "Data from `dataset` list is further distributed into four individual lists name `age`, `bmi`, `children`, and `charges` so that summary statistics can be obtained from it."
   ]
  },
  {
   "cell_type": "markdown",
   "metadata": {},
   "source": [
    "### 1. Separating the ordinal, scale, and ratio variables\n",
    "\n",
    "Each data row in the dataset is iterated and the specific data are appended to respective lists"
   ]
  },
  {
   "cell_type": "code",
   "execution_count": 59,
   "metadata": {},
   "outputs": [],
   "source": [
    "age = []\n",
    "sex = []\n",
    "bmi = []\n",
    "children = []\n",
    "smoker = []\n",
    "region = []\n",
    "charges = []\n",
    "\n",
    "for data in dataset:\n",
    "\n",
    "    age.append(data[\"age\"])\n",
    "    sex.append(data[\"sex\"])\n",
    "    bmi.append(data[\"bmi\"])\n",
    "    children.append(data[\"children\"])\n",
    "    smoker.append(data[\"smoker\"])\n",
    "    region.append(data[\"region\"])\n",
    "    charges.append(data[\"charges\"])"
   ]
  },
  {
   "cell_type": "markdown",
   "metadata": {},
   "source": [
    "### 2. Frequency Distribution\n",
    "\n",
    "Frequency distribution to understand the followings:\n",
    "\n",
    "1. How many people belong to certain age groups?\n",
    "2. How many people belong to groups of certain number of children?\n",
    "3. How many male and female are there?\n",
    "4. How many smoker and non-smoker are there?\n",
    "5. What is the regional distribution of people?\n",
    "\n",
    "The following frequency distributions are performed for to get a hold of the dataset\n",
    "\n",
    "*Grouped frequency distribution*\n",
    "- age\n",
    "- children\n",
    "\n",
    "*Ungrouped frequency distribution*\n",
    "- sex\n",
    "- smoker\n",
    "- region"
   ]
  },
  {
   "cell_type": "markdown",
   "metadata": {},
   "source": [
    "#### **2.1 Grouped frequency distribution**\n",
    "\n",
    "The class interval for grouped frequency is calculated as:\n",
    "\n",
    "$${Class~Interval} = \\frac{Upper~Bound-Lower~Bound}{Number~of~Classes}$$\n",
    "\n",
    "Where 'Upper Bound' is the highest number in the range and 'lower bound' is the least."
   ]
  },
  {
   "cell_type": "markdown",
   "metadata": {},
   "source": [
    "The following code block has the frequency distribution of *age*"
   ]
  },
  {
   "cell_type": "code",
   "execution_count": 60,
   "metadata": {},
   "outputs": [
    {
     "name": "stdout",
     "output_type": "stream",
     "text": [
      "Highest age is 64 and lowest age is 18\n"
     ]
    },
    {
     "data": {
      "text/markdown": [
       "<center>\n",
       "\n",
       "<u>Frequency Distribution of Age</u>\n",
       "| <center>Age</center> | <center>Frequency</center> | <center>% of Respondents</center> |\n",
       "|-|-|-|\n",
       "| <center>18-23</center> | <center>250</center> | <center>18.68</center> |\n",
       "| <center>24-29</center> | <center>167</center> | <center>12.48</center> |\n",
       "| <center>30-35</center> | <center>157</center> | <center>11.73</center> |\n",
       "| <center>36-41</center> | <center>154</center> | <center>11.51</center> |\n",
       "| <center>42-47</center> | <center>168</center> | <center>12.56</center> |\n",
       "| <center>48-53</center> | <center>172</center> | <center>12.86</center> |\n",
       "| <center>54-59</center> | <center>156</center> | <center>11.66</center> |\n",
       "| <center>60-65</center> | <center>114</center> | <center>8.52</center> |\n",
       "\n",
       "</center>"
      ],
      "text/plain": [
       "<IPython.core.display.Markdown object>"
      ]
     },
     "metadata": {},
     "output_type": "display_data"
    }
   ],
   "source": [
    "# Import for showing frequency distribution in a table\n",
    "from IPython.display import display, Markdown\n",
    "\n",
    "# Frequency distribution of age\n",
    "\n",
    "output_text = \"<center>\\n\\n<u>Frequency Distribution of Age</u>\\n| <center>Age</center> | <center>Frequency</center> | <center>% of Respondents</center> |\\n|-|-|-|\\n\"\n",
    "\n",
    "highest_age, lowest_age = max(age), min(age)\n",
    "\n",
    "print(\"Highest age is {} and lowest age is {}\".format(highest_age, lowest_age))\n",
    "\n",
    "# Since the upper bound is 64 and lower bound is 18, number of classes should be 10\n",
    "num_classes = 10\n",
    "class_interval = round((highest_age-lowest_age)/num_classes)\n",
    "\n",
    "while lowest_age < highest_age:\n",
    "    counter = 0\n",
    "    for a in age:\n",
    "        if lowest_age <= a <= lowest_age+class_interval:\n",
    "            counter += 1\n",
    "    output_text += \"| <center>{}-{}</center> | <center>{}</center> | <center>{}</center> |\\n\".format(\n",
    "        lowest_age, lowest_age+class_interval, counter, round(counter*100/len(dataset), 2))\n",
    "    # Added 1 with class interval for going to next class\n",
    "    lowest_age += class_interval+1\n",
    "\n",
    "output_text += \"\\n</center>\"\n",
    "\n",
    "display(Markdown(output_text))"
   ]
  },
  {
   "cell_type": "markdown",
   "metadata": {},
   "source": [
    "The following code block has the frequency distribution of *children*"
   ]
  },
  {
   "cell_type": "code",
   "execution_count": 61,
   "metadata": {},
   "outputs": [
    {
     "name": "stdout",
     "output_type": "stream",
     "text": [
      "Highest number of children is 5 and lowest number of children is 0\n"
     ]
    },
    {
     "data": {
      "text/markdown": [
       "<center>\n",
       "\n",
       "<u>Frequency Distribution of Children</u>\n",
       "| <center>Children</center> | <center>Frequency</center> | <center>% of Respondents</center> |\n",
       "|-|-|-|\n",
       "| <center>0-1</center> | <center>898</center> | <center>67.12</center> |\n",
       "| <center>2-3</center> | <center>397</center> | <center>29.67</center> |\n",
       "| <center>4-5</center> | <center>43</center> | <center>3.21</center> |\n",
       "\n",
       "</center>"
      ],
      "text/plain": [
       "<IPython.core.display.Markdown object>"
      ]
     },
     "metadata": {},
     "output_type": "display_data"
    }
   ],
   "source": [
    "# Frequency distribution of children\n",
    "\n",
    "output_text = \"<center>\\n\\n<u>Frequency Distribution of Children</u>\\n| <center>Children</center> | <center>Frequency</center> | <center>% of Respondents</center> |\\n|-|-|-|\\n\"\n",
    "\n",
    "highest_children, lowest_children = max(children), min(children)\n",
    "\n",
    "print(\"Highest number of children is {} and lowest number of children is {}\".format(\n",
    "    highest_children, lowest_children))\n",
    "\n",
    "# Since the upper bound is 5 and lower bound is 0, number of classes should be 5\n",
    "num_classes = 5\n",
    "class_interval = round((highest_children-lowest_children)/num_classes)\n",
    "\n",
    "while lowest_children < highest_children:\n",
    "    counter = 0\n",
    "    for c in children:\n",
    "        if lowest_children <= c <= lowest_children+class_interval:\n",
    "            counter += 1\n",
    "    output_text += \"| <center>{}-{}</center> | <center>{}</center> | <center>{}</center> |\\n\".format(\n",
    "        lowest_children, lowest_children+class_interval, counter, round(counter*100/len(dataset), 2))\n",
    "    # Added 1 with class interval for going to next class\n",
    "    lowest_children += class_interval +1 \n",
    "\n",
    "output_text += \"\\n</center>\"\n",
    "\n",
    "display(Markdown(output_text))"
   ]
  },
  {
   "cell_type": "markdown",
   "metadata": {},
   "source": [
    "### **2.2 Ungrouped frequency distribution**\n",
    "\n",
    "The following code block contains frequency distribution of sex, smoker, and region"
   ]
  },
  {
   "cell_type": "code",
   "execution_count": 62,
   "metadata": {},
   "outputs": [
    {
     "name": "stdout",
     "output_type": "stream",
     "text": [
      "There are 676 (50.52%) male and 662 (49.48%) female among respondents.\n",
      "274 (20.48%) respondents are smokers and 1064 (79.52%) are not.\n",
      "Among the respondents, 324 (24.22%) number of people are from the northeast, 325 (24.29%) from northwest, 364 (27.2%) from southeast, 325 (24.29%) are from southwest region.\n"
     ]
    }
   ],
   "source": [
    "print(\"There are {} ({}%) male and {} ({}%) female among respondents.\".format(\n",
    "    sex.count(0), round(sex.count(0)*100/len(dataset), 2), sex.count(1), round(sex.count(1)*100/len(dataset), 2)))\n",
    "\n",
    "print(\"{} ({}%) respondents are smokers and {} ({}%) are not.\".format(\n",
    "    smoker.count(1), round(smoker.count(1)*100/len(dataset), 2), smoker.count(0), round(smoker.count(0)*100/len(dataset), 2)))\n",
    "print(\"Among the respondents, {} ({}%) number of people are from the northeast, {} ({}%) from northwest, {} ({}%) from southeast, {} ({}%) are from southwest region.\".format(\n",
    "    region.count(1), round(region.count(1)*100/len(dataset), 2), region.count(2), round(region.count(2)*100/len(dataset), 2), region.count(3), round(region.count(3)*100/len(dataset), 2), region.count(4), round(region.count(4)*100/len(dataset), 2)))"
   ]
  },
  {
   "cell_type": "markdown",
   "metadata": {},
   "source": [
    "### 3. Central Tendency and Dispersion\n",
    "\n",
    "The central tendency and dispersion of `age`, `bmi`, `children`, and `charges` are calculate in the following section. The measures of central tendency and dispersion are:\n",
    "\n",
    "*Central tendency*\n",
    "\n",
    "- Arithmetic Mean\n",
    "- Median\n",
    "- Quartiles\n",
    "\n",
    "*Dispersion*\n",
    "\n",
    "- Standard deviation\n",
    "- Quartile deviation\n",
    "- Coefficient of variation\n",
    "- Coefficiant of quartile deviation"
   ]
  },
  {
   "cell_type": "markdown",
   "metadata": {},
   "source": [
    "#### 3.1 Arithmetic Mean\n",
    "\n",
    "Arithmetic mean is calculated using the following formula\n",
    "\n",
    "$$Arithmetic~Mean = \\frac{\\displaystyle\\sum_{i=1} ^{n} x_i}{n}"
   ]
  },
  {
   "cell_type": "code",
   "execution_count": 63,
   "metadata": {},
   "outputs": [
    {
     "name": "stdout",
     "output_type": "stream",
     "text": [
      "Mean age is 39.21 years\n",
      "Mean BMI is 30.66\n",
      "Mean number of children is 1.09\n",
      "Mean insurance chage is 13270.42 dollars\n"
     ]
    }
   ],
   "source": [
    "# Mean of age\n",
    "mean_age = round(sum(age)/len(age), 2)\n",
    "\n",
    "# Mean of bmi\n",
    "mean_bmi = round(sum(bmi)/len(bmi), 2)\n",
    "\n",
    "# Mean of children\n",
    "mean_children = round(sum(children)/len(children), 2)\n",
    "\n",
    "# Mean of charges\n",
    "mean_charges = round(sum(charges)/len(charges), 2)\n",
    "\n",
    "print(\"Mean age is {} years\\nMean BMI is {}\\nMean number of children is {}\\nMean insurance chage is {} dollars\".format(\n",
    "    mean_age, mean_bmi, mean_children, mean_charges))"
   ]
  },
  {
   "cell_type": "markdown",
   "metadata": {},
   "source": [
    "#### 3.2 Median\n",
    "\n",
    "Median is calculated as\n",
    "\n",
    "$$Median = \\frac{\\frac{n}{2}th~observation+(\\frac{n}{2}+1)th~observation}{2}$$\n",
    "\n",
    "**N.B**: Median is calculated in such manner because the number of samples is even. There exists a different formula for calculating median for odd number of samples."
   ]
  },
  {
   "cell_type": "code",
   "execution_count": 64,
   "metadata": {},
   "outputs": [
    {
     "name": "stdout",
     "output_type": "stream",
     "text": [
      "Median age is 39.0 years\n",
      "Median BMI is 30.4\n",
      "Median number of children is 1.0\n",
      "Median charges is 9388.75 dollars\n"
     ]
    }
   ],
   "source": [
    "# Median of age\n",
    "age.sort()\n",
    "median_age = (age[int(len(age)/2)]+age[int(len(age)/2+1)])/2\n",
    "\n",
    "# Median of bmi\n",
    "bmi.sort()\n",
    "median_bmi = (bmi[int(len(bmi)/2)]+bmi[int(len(bmi)/2+1)])/2\n",
    "\n",
    "# Median of children\n",
    "children.sort()\n",
    "median_children = (children[int(len(children)/2)] +\n",
    "                   children[int(len(children)/2+1)])/2\n",
    "\n",
    "# Median of charges\n",
    "charges.sort()\n",
    "median_charges = round((charges[int(len(charges)/2)] +\n",
    "                  charges[int(len(charges)/2+1)])/2, 2)\n",
    "\n",
    "print(\"Median age is {} years\\nMedian BMI is {}\\nMedian number of children is {}\\nMedian charges is {} dollars\".format(\n",
    "    median_age, median_bmi, median_children, median_charges))"
   ]
  },
  {
   "cell_type": "markdown",
   "metadata": {},
   "source": [
    "#### 3.3 Quartile\n",
    "\n",
    "Quartiles are calculated as\n",
    "\n",
    "$$Quartile = \\frac{(\\frac{n}{4}\\times i)th~observation+\\{(\\frac{n}{4}\\times i)+1\\}th~observation}{2}$$\n",
    "\n",
    "**N.B**: Quartile is calculated in such manner because the number of samples is even. There exists a different formula for calculating quartile for odd number of samples."
   ]
  },
  {
   "cell_type": "code",
   "execution_count": 65,
   "metadata": {},
   "outputs": [
    {
     "name": "stdout",
     "output_type": "stream",
     "text": [
      "Quartiles of age\n",
      "Q1 = 27.0\n",
      "Q2 = 39.0\n",
      "Q3 = 51.0\n",
      "Quartiles of bmi\n",
      "Q1 = 26.3\n",
      "Q2 = 30.4\n",
      "Q3 = 34.7\n",
      "Quartiles of children\n",
      "Q1 = 0.0\n",
      "Q2 = 1.0\n",
      "Q3 = 2.0\n",
      "Quartiles of children\n",
      "Q1 = 4742.31\n",
      "Q2 = 9388.75\n",
      "Q3 = 16717.01\n"
     ]
    }
   ],
   "source": [
    "# Quartiles of age\n",
    "age_quartiles = []\n",
    "\n",
    "print(\"Quartiles of age\")\n",
    "for i in range(1, 4):\n",
    "    quartile = (age[int(len(age)*i/4)]+age[int(len(age)*i/4)+1])/2\n",
    "    age_quartiles.append(quartile)\n",
    "    print(\"Q{} = {}\".format(i, quartile))\n",
    "\n",
    "# Quartiles of bmi\n",
    "bmi_quartiles = []\n",
    "\n",
    "print(\"Quartiles of bmi\")\n",
    "for i in range(1, 4):\n",
    "    quartile = round((bmi[int(len(bmi)*i/4)]+bmi[int(len(bmi)*i/4)+1])/2, 2)\n",
    "    bmi_quartiles.append(quartile)\n",
    "    print(\"Q{} = {}\".format(i, quartile))\n",
    "\n",
    "# Quartiles of children\n",
    "children_quartiles = []\n",
    "\n",
    "print(\"Quartiles of children\")\n",
    "for i in range(1, 4):\n",
    "    quartile = round((children[int(len(children)*i/4)]+children[int(len(children)*i/4)+1])/2, 2)\n",
    "    children_quartiles.append(quartile)\n",
    "    print(\"Q{} = {}\".format(i, quartile))\n",
    "\n",
    "# Quartiles of charges\n",
    "charges_quartiles = []\n",
    "\n",
    "print(\"Quartiles of children\")\n",
    "for i in range(1, 4):\n",
    "    quartile = round((charges[int(len(charges)*i/4)]+charges[int(len(charges)*i/4)+1])/2, 2)\n",
    "    charges_quartiles.append(quartile)\n",
    "    print(\"Q{} = {}\".format(i, quartile))"
   ]
  },
  {
   "cell_type": "markdown",
   "metadata": {},
   "source": [
    "#### 3.3 Standard Deviation\n",
    "\n",
    "Standard deviation is calculated as calculated as\n",
    "\n",
    "$$\\sigma = \\sqrt{\\frac{\\sum (x_i-\\bar{x})^2}{n}}$$"
   ]
  },
  {
   "cell_type": "code",
   "execution_count": 66,
   "metadata": {},
   "outputs": [
    {
     "name": "stdout",
     "output_type": "stream",
     "text": [
      "Standard deviation of age: 14.04\n",
      "Standard deviation of BMI: 6.1\n",
      "Standard deviation of children: 1.21\n",
      "Standard deviation of charges: 12105.48\n"
     ]
    }
   ],
   "source": [
    "from math import sqrt\n",
    "\n",
    "# Standard Deviation of age\n",
    "std_dev_age = round(sqrt(sum([(x-mean_age)**2 for x in age])/len(age)), 2)\n",
    "\n",
    "# Standard deviation of bmi\n",
    "std_dev_bmi = round(sqrt(sum([(x-mean_bmi)**2 for x in bmi])/len(bmi)), 2)\n",
    "\n",
    "# Standard deviation of children\n",
    "std_dev_children = round(\n",
    "    sqrt(sum([(x-mean_children)**2 for x in children])/len(children)), 2)\n",
    "\n",
    "# Standard deviation of charges\n",
    "std_dev_charges = round(\n",
    "    sqrt(sum([(x-mean_charges)**2 for x in charges])/len(charges)), 2)\n",
    "\n",
    "print(\"Standard deviation of age: {}\\nStandard deviation of BMI: {}\\nStandard deviation of children: {}\\nStandard deviation of charges: {}\".format(\n",
    "    std_dev_age, std_dev_bmi, std_dev_children, std_dev_charges))"
   ]
  },
  {
   "cell_type": "markdown",
   "metadata": {},
   "source": [
    "#### 3.4 Quartile Deviation\n",
    "\n",
    "Quartile deviation is calculated as calculated as\n",
    "\n",
    "$$Q.D. = \\frac{Q_3-Q_1}{2}$$"
   ]
  },
  {
   "cell_type": "code",
   "execution_count": 67,
   "metadata": {},
   "outputs": [
    {
     "name": "stdout",
     "output_type": "stream",
     "text": [
      "QD of age: 39.0\n",
      "QD of BMI: 30.5\n",
      "QD of children: 1.0\n",
      "QD of charges: 10729.66\n"
     ]
    }
   ],
   "source": [
    "# Quartile deviation of age\n",
    "qd_age = (age_quartiles[0]+age_quartiles[2])/2\n",
    "\n",
    "# Quartile deviation of bmi\n",
    "qd_bmi = (bmi_quartiles[0]+bmi_quartiles[2])/2\n",
    "\n",
    "# Quartile deviation of children\n",
    "qd_children = (children_quartiles[0]+children_quartiles[2])/2\n",
    "\n",
    "# Quartile deviation of charges\n",
    "qd_charges = (charges_quartiles[0]+charges_quartiles[2])/2\n",
    "\n",
    "print(\"QD of age: {}\\nQD of BMI: {}\\nQD of children: {}\\nQD of charges: {}\".format(qd_age, qd_bmi, qd_children, qd_charges))"
   ]
  },
  {
   "cell_type": "markdown",
   "metadata": {},
   "source": [
    "#### 3.5 Coefficient of variation\n",
    "\n",
    "Coefficient of variation is calculated as calculated as\n",
    "\n",
    "$$C.V. = \\frac{\\sigma}{\\bar{x}}\\times 100$$"
   ]
  },
  {
   "cell_type": "code",
   "execution_count": 68,
   "metadata": {},
   "outputs": [
    {
     "name": "stdout",
     "output_type": "stream",
     "text": [
      "CV of age: 35.81\n",
      "CV of BMI: 19.9\n",
      "CV of children: 111.01\n",
      "CV of charges: 91.22\n"
     ]
    }
   ],
   "source": [
    "# Variation coefficient of age\n",
    "cv_age = round(std_dev_age*100/mean_age, 2)\n",
    "\n",
    "# Variation coefficient of bmi\n",
    "cv_bmi = round(std_dev_bmi*100/mean_bmi, 2)\n",
    "\n",
    "# Variation coefficient of children\n",
    "cv_children = round(std_dev_children*100/mean_children,2)\n",
    "\n",
    "# Variation coefficient of charges\n",
    "cv_charges = round(std_dev_charges*100/mean_charges, 2)\n",
    "\n",
    "print(\"CV of age: {}\\nCV of BMI: {}\\nCV of children: {}\\nCV of charges: {}\".format(\n",
    "    cv_age, cv_bmi, cv_children, cv_charges))"
   ]
  },
  {
   "cell_type": "markdown",
   "metadata": {},
   "source": [
    "#### 3.6 Coefficient of quartile devation\n",
    "\n",
    "Coefficient of variation is calculated as calculated as\n",
    "\n",
    "$$C.Q.D. = \\frac{Q_3-Q_1}{Q_3+Q_1}\\times 100$$"
   ]
  },
  {
   "cell_type": "code",
   "execution_count": 71,
   "metadata": {},
   "outputs": [
    {
     "name": "stdout",
     "output_type": "stream",
     "text": [
      "CQD of age: 30.76923076923077\n",
      "CQD of BMI: 13.770491803278691\n",
      "CQD of children: 100.0\n",
      "CQD of charges: 55.80186138237371\n"
     ]
    }
   ],
   "source": [
    "# CQD of age\n",
    "cqd_age = (age_quartiles[2]-age_quartiles[0]) * \\\n",
    "    100/(age_quartiles[0]+age_quartiles[2])\n",
    "\n",
    "# CQD of bmi\n",
    "cqd_bmi = (bmi_quartiles[2]-bmi_quartiles[0]) * \\\n",
    "    100/(bmi_quartiles[0]+bmi_quartiles[2])\n",
    "\n",
    "# CQD of children\n",
    "cqd_children = (children_quartiles[2]-children_quartiles[0]) * \\\n",
    "    100/(children_quartiles[0]+children_quartiles[2])\n",
    "\n",
    "# CQD of charges\n",
    "cqd_charges = (charges_quartiles[2]-charges_quartiles[0]) * \\\n",
    "    100/(charges_quartiles[0]+charges_quartiles[2])\n",
    "\n",
    "print(\"CQD of age: {}\\nCQD of BMI: {}\\nCQD of children: {}\\nCQD of charges: {}\".format(\n",
    "    cqd_age, cqd_bmi, cqd_children, cqd_charges))"
   ]
  }
 ],
 "metadata": {
  "kernelspec": {
   "display_name": "Python 3",
   "language": "python",
   "name": "python3"
  },
  "language_info": {
   "codemirror_mode": {
    "name": "ipython",
    "version": 3
   },
   "file_extension": ".py",
   "mimetype": "text/x-python",
   "name": "python",
   "nbconvert_exporter": "python",
   "pygments_lexer": "ipython3",
   "version": "3.10.12"
  }
 },
 "nbformat": 4,
 "nbformat_minor": 4
}
