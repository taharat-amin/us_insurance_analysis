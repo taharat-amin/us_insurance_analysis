{
 "cells": [
  {
   "cell_type": "markdown",
   "metadata": {},
   "source": [
    "# **U.S Medical Insurance Cost**\n",
    "\n",
    "## <u>Part 1: Data Reading and Preparation</u>\n",
    "\n",
    "The `csv` module is imported to read raw data from the `insurance.csv` file using `csv.DictReader()` method. Initially all data are in string format. Therefore, the processed data is added to the `dataset` list by typecasting the variables in the following manner:\n",
    "\n",
    "<center>\n",
    "\n",
    "| Variable | <center>Data Type</center> | Variable Type |\n",
    "| -------- | --------- | ------------- |\n",
    "| `age` | int | Scale |\n",
    "| `sex` | bool (0 for 'male' and 1 for 'female') | Nominal |\n",
    "| `bmi` | float | Ratio |\n",
    "| `children` | int | Ordinal |\n",
    "| `smoker` | bool (0 for 'no' and 1 for 'yes') | Nominal |\n",
    "| `region` | int (1 for 'northeast', 2 for 'northwest' , 3 for 'southeast', 4 for 'southwest') | Nominal |\n",
    "| `charges` | float | Ratio |\n",
    "\n",
    "</center>\n",
    "\n",
    "Identified the regions uniquely by first separating the `region` column in the `insurance.csv` to `regions.txt` file. Then the following command was executed in terminal to get the unique names of the regions:\n",
    "```\n",
    "sort regions.txt | uniq\n",
    "```\n",
    "This command gave the unique names of the regions based on which the numeric codes were provided."
   ]
  },
  {
   "cell_type": "code",
   "execution_count": 7,
   "metadata": {},
   "outputs": [
    {
     "name": "stdout",
     "output_type": "stream",
     "text": [
      "Dataset contains 1338 samples\n"
     ]
    }
   ],
   "source": [
    "import csv\n",
    "\n",
    "dataset = []  # dict to store the raw contents\n",
    "\n",
    "with open(\"insurance.csv\", \"r\") as file:\n",
    "    # \n",
    "    for row in csv.DictReader(file):\n",
    "        data = {}\n",
    "        for header, value in row.items():\n",
    "            if header == \"age\":\n",
    "                data[header] = int(value)\n",
    "            elif header == \"sex\":\n",
    "                data[header] = 0 if value == \"male\" else 1\n",
    "            elif header == \"bmi\":\n",
    "                data[header] = float(value)\n",
    "            elif header == \"children\":\n",
    "                data[header] = int(value)\n",
    "            elif header == \"smoker\":\n",
    "                data[header] = 0 if value == \"no\" else 1\n",
    "            elif header == \"region\":\n",
    "                if value == \"northeast\":\n",
    "                    data[header] = 1\n",
    "                elif value == \"northwest\":\n",
    "                    data[header] = 2\n",
    "                elif value == \"southeast\":\n",
    "                    data[header] = 3\n",
    "                elif value == \"southwest\":\n",
    "                    data[header] = 4\n",
    "            elif header == \"charges\":\n",
    "                data[header] = float(value)\n",
    "\n",
    "        dataset.append(data)\n",
    "\n",
    "print(\"Dataset contains\",len(dataset),\"samples\")"
   ]
  },
  {
   "cell_type": "markdown",
   "metadata": {},
   "source": [
    "## <u>Part 2: Summary Statistics</u>\n",
    "\n",
    "Data from `dataset` list is further distributed into four individual lists name `age`, `bmi`, `children`, and `charges` so that summary statistics can be obtained from it."
   ]
  },
  {
   "cell_type": "markdown",
   "metadata": {},
   "source": [
    "### Separating the scale and ratio variables\n",
    "\n",
    "Each data row in the dataset is iterated and the specific data are appended to respective lists"
   ]
  },
  {
   "cell_type": "code",
   "execution_count": 6,
   "metadata": {},
   "outputs": [],
   "source": [
    "age = []\n",
    "bmi = []\n",
    "charges = []\n",
    "\n",
    "for data in dataset:\n",
    "\n",
    "    age.append(data[\"age\"])\n",
    "    bmi.append(data[\"bmi\"])\n",
    "    charges.append(data[\"charges\"])\n",
    "\n",
    "age.sort()\n",
    "bmi.sort()\n",
    "charges.sort()"
   ]
  },
  {
   "cell_type": "markdown",
   "metadata": {},
   "source": [
    "### Obtaining median of `age`, `bmi`, and `charges`"
   ]
  },
  {
   "cell_type": "code",
   "execution_count": null,
   "metadata": {},
   "outputs": [],
   "source": []
  }
 ],
 "metadata": {
  "kernelspec": {
   "display_name": "Python 3",
   "language": "python",
   "name": "python3"
  },
  "language_info": {
   "codemirror_mode": {
    "name": "ipython",
    "version": 3
   },
   "file_extension": ".py",
   "mimetype": "text/x-python",
   "name": "python",
   "nbconvert_exporter": "python",
   "pygments_lexer": "ipython3",
   "version": "3.10.12"
  }
 },
 "nbformat": 4,
 "nbformat_minor": 4
}
