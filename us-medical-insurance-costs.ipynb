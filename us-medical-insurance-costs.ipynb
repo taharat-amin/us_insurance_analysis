{
 "cells": [
  {
   "cell_type": "markdown",
   "metadata": {},
   "source": [
    "# **U.S Medical Insurance Cost**\n",
    "\n",
    "## <u>Part 1: Data Reading and Preparation</u>\n",
    "\n",
    "The `csv` module is imported to read raw data from the `insurance.csv` file using `csv.DictReader()` method. Initially all data are in string format. Therefore, the processed data is added to the `dataset` list by typecasting the variables in the following manner:\n",
    "\n",
    "<center>\n",
    "\n",
    "|<center>Variable</center> | <center>Data Type</center> | <center>Variable Type</center> |\n",
    "|-|-|-|\n",
    "| `age` | int | Scale |\n",
    "| `sex` | bool (0 for 'male' and 1 for 'female') | Nominal |\n",
    "| `bmi` | float | Ratio |\n",
    "| `children` | int | Ordinal |\n",
    "| `smoker` | bool (0 for 'no' and 1 for 'yes') | Nominal |\n",
    "| `region` | int (1 for 'northeast', 2 for 'northwest' , <br>3 for 'southeast', 4 for 'southwest') | Nominal |\n",
    "| `charges` | float | Ratio |\n",
    "\n",
    "</center>\n",
    "\n",
    "Identified the regions uniquely by first separating the `region` column in the `insurance.csv` to `regions.txt` file. Then the following command was executed in terminal to get the unique names of the regions:\n",
    "```\n",
    "sort regions.txt | uniq\n",
    "```\n",
    "This command gave the unique names of the regions based on which the numeric codes were provided."
   ]
  },
  {
   "cell_type": "code",
   "execution_count": 20,
   "metadata": {},
   "outputs": [
    {
     "name": "stdout",
     "output_type": "stream",
     "text": [
      "Dataset contains 1338 samples\n"
     ]
    }
   ],
   "source": [
    "import csv\n",
    "\n",
    "dataset = []  # dict to store the raw contents\n",
    "\n",
    "with open(\"insurance.csv\", \"r\") as file:\n",
    "    for row in csv.DictReader(file):\n",
    "        data = {}\n",
    "        for header, value in row.items():\n",
    "            if header == \"age\":\n",
    "                data[header] = int(value)\n",
    "            elif header == \"sex\":\n",
    "                data[header] = 0 if value == \"male\" else 1\n",
    "            elif header == \"bmi\":\n",
    "                data[header] = float(value)\n",
    "            elif header == \"children\":\n",
    "                data[header] = int(value)\n",
    "            elif header == \"smoker\":\n",
    "                data[header] = 0 if value == \"no\" else 1\n",
    "            elif header == \"region\":\n",
    "                if value == \"northeast\":\n",
    "                    data[header] = 1\n",
    "                elif value == \"northwest\":\n",
    "                    data[header] = 2\n",
    "                elif value == \"southeast\":\n",
    "                    data[header] = 3\n",
    "                elif value == \"southwest\":\n",
    "                    data[header] = 4\n",
    "            elif header == \"charges\":\n",
    "                data[header] = float(value)\n",
    "        dataset.append(data)\n",
    "\n",
    "print(\"Dataset contains\", len(dataset), \"samples\")"
   ]
  },
  {
   "cell_type": "markdown",
   "metadata": {},
   "source": [
    "## <u>Part 2: Summary Statistics</u>\n",
    "\n",
    "Data from `dataset` list is further distributed into four individual lists name `age`, `bmi`, `children`, and `charges` so that summary statistics can be obtained from it."
   ]
  },
  {
   "cell_type": "markdown",
   "metadata": {},
   "source": [
    "### 1. Separating the ordinal, scale, and ratio variables\n",
    "\n",
    "Each data row in the dataset is iterated and the specific data are appended to respective lists"
   ]
  },
  {
   "cell_type": "code",
   "execution_count": 21,
   "metadata": {},
   "outputs": [],
   "source": [
    "age = []\n",
    "sex = []\n",
    "bmi = []\n",
    "children = []\n",
    "smoker = []\n",
    "region = []\n",
    "charges = []\n",
    "\n",
    "for data in dataset:\n",
    "\n",
    "    age.append(data[\"age\"])\n",
    "    sex.append(data[\"sex\"])\n",
    "    bmi.append(data[\"bmi\"])\n",
    "    children.append(data[\"children\"])\n",
    "    smoker.append(data[\"smoker\"])\n",
    "    region.append(data[\"region\"])\n",
    "    charges.append(data[\"charges\"])"
   ]
  },
  {
   "cell_type": "markdown",
   "metadata": {},
   "source": [
    "### 2. Frequency Distribution\n",
    "\n",
    "Frequency distribution to understand the followings:\n",
    "\n",
    "1. How many people belong to certain age groups?\n",
    "2. How many people belong to groups of certain number of children?\n",
    "3. How many male and female are there?\n",
    "4. How many smoker and non-smoker are there?\n",
    "5. What is the regional distribution of people?\n",
    "\n",
    "The following frequency distributions are performed for to get a hold of the dataset\n",
    "\n",
    "*Grouped frequency distribution*\n",
    "- age\n",
    "- children\n",
    "\n",
    "*Ungrouped frequency distribution*\n",
    "- sex\n",
    "- smoker\n",
    "- region"
   ]
  },
  {
   "cell_type": "markdown",
   "metadata": {},
   "source": [
    "#### **2.1 Grouped frequency distribution**\n",
    "\n",
    "The class interval for grouped frequency is calculated as:\n",
    "\n",
    "$${Class~Interval} = \\frac{Upper~Bound-Lower~Bound}{Number~of~Classes}$$\n",
    "\n",
    "Where 'Upper Bound' is the highest number in the range and 'lower bound' is the least."
   ]
  },
  {
   "cell_type": "markdown",
   "metadata": {},
   "source": [
    "The following code block has the frequency distribution of *age*"
   ]
  },
  {
   "cell_type": "code",
   "execution_count": 22,
   "metadata": {},
   "outputs": [
    {
     "name": "stdout",
     "output_type": "stream",
     "text": [
      "Highest age is 64 and lowest age is 18\n"
     ]
    },
    {
     "data": {
      "text/markdown": [
       "<center>\n",
       "\n",
       "<u>Frequency Distribution of Age</u>\n",
       "| <center>Age</center> | <center>Frequency</center> | <center>% of Respondents</center> |\n",
       "|-|-|-|\n",
       "| <center>18-23</center> | <center>250</center> | <center>18.68</center> |\n",
       "| <center>24-29</center> | <center>167</center> | <center>12.48</center> |\n",
       "| <center>30-35</center> | <center>157</center> | <center>11.73</center> |\n",
       "| <center>36-41</center> | <center>154</center> | <center>11.51</center> |\n",
       "| <center>42-47</center> | <center>168</center> | <center>12.56</center> |\n",
       "| <center>48-53</center> | <center>172</center> | <center>12.86</center> |\n",
       "| <center>54-59</center> | <center>156</center> | <center>11.66</center> |\n",
       "| <center>60-65</center> | <center>114</center> | <center>8.52</center> |\n",
       "\n",
       "</center>"
      ],
      "text/plain": [
       "<IPython.core.display.Markdown object>"
      ]
     },
     "metadata": {},
     "output_type": "display_data"
    }
   ],
   "source": [
    "# Import for showing frequency distribution in a table\n",
    "from IPython.display import display, Markdown\n",
    "\n",
    "# Frequency distribution of age\n",
    "\n",
    "output_text = \"<center>\\n\\n<u>Frequency Distribution of Age</u>\\n| <center>Age</center> | <center>Frequency</center> | <center>% of Respondents</center> |\\n|-|-|-|\\n\"\n",
    "\n",
    "highest_age, lowest_age = max(age), min(age)\n",
    "\n",
    "print(\"Highest age is {} and lowest age is {}\".format(highest_age, lowest_age))\n",
    "\n",
    "# Since the upper bound is 64 and lower bound is 18, number of classes should be 10\n",
    "num_classes = 10\n",
    "class_interval = round((highest_age-lowest_age)/num_classes)\n",
    "\n",
    "while lowest_age < highest_age:\n",
    "    counter = 0\n",
    "    for a in age:\n",
    "        if lowest_age <= a <= lowest_age+class_interval:\n",
    "            counter += 1\n",
    "    output_text += \"| <center>{}-{}</center> | <center>{}</center> | <center>{}</center> |\\n\".format(\n",
    "        lowest_age, lowest_age+class_interval, counter, round(counter*100/len(dataset), 2))\n",
    "    # Added 1 with class interval for going to next class\n",
    "    lowest_age += class_interval+1\n",
    "\n",
    "output_text += \"\\n</center>\"\n",
    "\n",
    "display(Markdown(output_text))"
   ]
  },
  {
   "cell_type": "markdown",
   "metadata": {},
   "source": [
    "The following code block has the frequency distribution of *children*"
   ]
  },
  {
   "cell_type": "code",
   "execution_count": 23,
   "metadata": {},
   "outputs": [
    {
     "name": "stdout",
     "output_type": "stream",
     "text": [
      "Highest number of children is 5 and lowest number of children is 0\n"
     ]
    },
    {
     "data": {
      "text/markdown": [
       "<center>\n",
       "\n",
       "<u>Frequency Distribution of Children</u>\n",
       "| <center>Children</center> | <center>Frequency</center> | <center>% of Respondents</center> |\n",
       "|-|-|-|\n",
       "| <center>0-1</center> | <center>898</center> | <center>67.12</center> |\n",
       "| <center>2-3</center> | <center>397</center> | <center>29.67</center> |\n",
       "| <center>4-5</center> | <center>43</center> | <center>3.21</center> |\n",
       "\n",
       "</center>"
      ],
      "text/plain": [
       "<IPython.core.display.Markdown object>"
      ]
     },
     "metadata": {},
     "output_type": "display_data"
    }
   ],
   "source": [
    "# Frequency distribution of children\n",
    "\n",
    "output_text = \"<center>\\n\\n<u>Frequency Distribution of Children</u>\\n| <center>Children</center> | <center>Frequency</center> | <center>% of Respondents</center> |\\n|-|-|-|\\n\"\n",
    "\n",
    "highest_children, lowest_children = max(children), min(children)\n",
    "\n",
    "print(\"Highest number of children is {} and lowest number of children is {}\".format(\n",
    "    highest_children, lowest_children))\n",
    "\n",
    "# Since the upper bound is 5 and lower bound is 0, number of classes should be 5\n",
    "num_classes = 5\n",
    "class_interval = round((highest_children-lowest_children)/num_classes)\n",
    "\n",
    "while lowest_children < highest_children:\n",
    "    counter = 0\n",
    "    for c in children:\n",
    "        if lowest_children <= c <= lowest_children+class_interval:\n",
    "            counter += 1\n",
    "    output_text += \"| <center>{}-{}</center> | <center>{}</center> | <center>{}</center> |\\n\".format(\n",
    "        lowest_children, lowest_children+class_interval, counter, round(counter*100/len(dataset), 2))\n",
    "    # Added 1 with class interval for going to next class\n",
    "    lowest_children += class_interval +1 \n",
    "\n",
    "output_text += \"\\n</center>\"\n",
    "\n",
    "display(Markdown(output_text))"
   ]
  },
  {
   "cell_type": "markdown",
   "metadata": {},
   "source": [
    "### **2.2 Ungrouped frequency distribution**\n",
    "\n",
    "The following code block contains frequency distribution of sex, smoker, and region"
   ]
  },
  {
   "cell_type": "code",
   "execution_count": 24,
   "metadata": {},
   "outputs": [
    {
     "name": "stdout",
     "output_type": "stream",
     "text": [
      "There are 676 (50.52%) male and 662 (49.48%) female among respondents.\n",
      "274 (20.48%) respondents are smokers and 1064 (79.52%) are not.\n",
      "Among the respondents, 324 (24.22%) number of people are from the northeast, 325 (24.29%) from northwest, 364 (27.2%) from southeast, 325 (24.29%) are from southwest region.\n"
     ]
    }
   ],
   "source": [
    "print(\"There are {} ({}%) male and {} ({}%) female among respondents.\".format(\n",
    "    sex.count(0), round(sex.count(0)*100/len(dataset), 2), sex.count(1), round(sex.count(1)*100/len(dataset), 2)))\n",
    "\n",
    "print(\"{} ({}%) respondents are smokers and {} ({}%) are not.\".format(\n",
    "    smoker.count(1), round(smoker.count(1)*100/len(dataset), 2), smoker.count(0), round(smoker.count(0)*100/len(dataset), 2)))\n",
    "print(\"Among the respondents, {} ({}%) number of people are from the northeast, {} ({}%) from northwest, {} ({}%) from southeast, {} ({}%) are from southwest region.\".format(\n",
    "    region.count(1), round(region.count(1)*100/len(dataset), 2), region.count(2), round(region.count(2)*100/len(dataset), 2), region.count(3), round(region.count(3)*100/len(dataset), 2), region.count(4), round(region.count(4)*100/len(dataset), 2)))"
   ]
  },
  {
   "cell_type": "markdown",
   "metadata": {},
   "source": [
    "### 3. Central Tendency and Measure of Dispersion\n",
    "\n",
    "The central tendency and dispersion of `age`, `bmi`, `children`, and `charges` are calculate in the following section. The measures of central tendency and dispersion are:\n",
    "\n",
    "*Central tendency*\n",
    "\n",
    "- Mean\n",
    "- Median\n",
    "- Mode\n",
    "\n",
    "*Dispersion*\n",
    "\n",
    "- Standard deviation\n",
    "- Interquartile range"
   ]
  }
 ],
 "metadata": {
  "kernelspec": {
   "display_name": "Python 3",
   "language": "python",
   "name": "python3"
  },
  "language_info": {
   "codemirror_mode": {
    "name": "ipython",
    "version": 3
   },
   "file_extension": ".py",
   "mimetype": "text/x-python",
   "name": "python",
   "nbconvert_exporter": "python",
   "pygments_lexer": "ipython3",
   "version": "3.10.12"
  }
 },
 "nbformat": 4,
 "nbformat_minor": 4
}
