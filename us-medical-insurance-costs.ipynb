{
 "cells": [
  {
   "cell_type": "markdown",
   "metadata": {},
   "source": [
    "# **U.S Medical Insurance Cost**\n",
    "\n",
    "## <u>Part 1: Data Reading and Preparation</u>\n",
    "\n",
    "The `csv` module is imported to read raw data from the `insurance.csv` file using `csv.DictReader()` method. Initially all data are in string format. Therefore, the processed data is added to the `dataset` list by typecasting the variables in the following manner:\n",
    "\n",
    "<center>\n",
    "\n",
    "|<center>Variable</center> | <center>Data Type</center> | <center>Variable Type</center> |\n",
    "| -------- | --------- | ------------- |\n",
    "| `age` | int | Scale |\n",
    "| `sex` | bool (0 for 'male' and 1 for 'female') | Nominal |\n",
    "| `bmi` | float | Ratio |\n",
    "| `children` | int | Ordinal |\n",
    "| `smoker` | bool (0 for 'no' and 1 for 'yes') | Nominal |\n",
    "| `region` | int (1 for 'northeast', 2 for 'northwest' , <br>3 for 'southeast', 4 for 'southwest') | Nominal |\n",
    "| `charges` | float | Ratio |\n",
    "\n",
    "</center>\n",
    "\n",
    "Identified the regions uniquely by first separating the `region` column in the `insurance.csv` to `regions.txt` file. Then the following command was executed in terminal to get the unique names of the regions:\n",
    "```\n",
    "sort regions.txt | uniq\n",
    "```\n",
    "This command gave the unique names of the regions based on which the numeric codes were provided."
   ]
  },
  {
   "cell_type": "code",
   "execution_count": 93,
   "metadata": {},
   "outputs": [
    {
     "name": "stdout",
     "output_type": "stream",
     "text": [
      "Dataset contains 1338 samples\n"
     ]
    }
   ],
   "source": [
    "import csv\n",
    "\n",
    "dataset = []  # dict to store the raw contents\n",
    "\n",
    "with open(\"insurance.csv\", \"r\") as file:\n",
    "    for row in csv.DictReader(file):\n",
    "        data = {}\n",
    "        for header, value in row.items():\n",
    "            if header == \"age\":\n",
    "                data[header] = int(value)\n",
    "            elif header == \"sex\":\n",
    "                data[header] = 0 if value == \"male\" else 1\n",
    "            elif header == \"bmi\":\n",
    "                data[header] = float(value)\n",
    "            elif header == \"children\":\n",
    "                data[header] = int(value)\n",
    "            elif header == \"smoker\":\n",
    "                data[header] = 0 if value == \"no\" else 1\n",
    "            elif header == \"region\":\n",
    "                if value == \"northeast\":\n",
    "                    data[header] = 1\n",
    "                elif value == \"northwest\":\n",
    "                    data[header] = 2\n",
    "                elif value == \"southeast\":\n",
    "                    data[header] = 3\n",
    "                elif value == \"southwest\":\n",
    "                    data[header] = 4\n",
    "            elif header == \"charges\":\n",
    "                data[header] = float(value)\n",
    "        dataset.append(data)\n",
    "\n",
    "print(\"Dataset contains\",len(dataset),\"samples\")"
   ]
  },
  {
   "cell_type": "markdown",
   "metadata": {},
   "source": [
    "## <u>Part 2: Summary Statistics</u>\n",
    "\n",
    "Data from `dataset` list is further distributed into four individual lists name `age`, `bmi`, `children`, and `charges` so that summary statistics can be obtained from it."
   ]
  },
  {
   "cell_type": "markdown",
   "metadata": {},
   "source": [
    "### 1. Separating the ordinal, scale, and ratio variables\n",
    "\n",
    "Each data row in the dataset is iterated and the specific data are appended to respective lists"
   ]
  },
  {
   "cell_type": "code",
   "execution_count": 94,
   "metadata": {},
   "outputs": [],
   "source": [
    "age = []\n",
    "sex = []\n",
    "bmi = []\n",
    "children = []\n",
    "smoker = []\n",
    "regions = []\n",
    "charges = []\n",
    "\n",
    "for data in dataset:\n",
    "\n",
    "    age.append(data[\"age\"])\n",
    "    sex.append(data[\"sex\"])\n",
    "    bmi.append(data[\"bmi\"])\n",
    "    children.append(data[\"children\"])\n",
    "    smoker.append(data[\"smoker\"])\n",
    "    regions.append(data[\"region\"])\n",
    "    charges.append(data[\"charges\"])"
   ]
  },
  {
   "cell_type": "markdown",
   "metadata": {},
   "source": [
    "### 2. Obtaining the frequency distribution of data\n",
    "\n",
    "Frequency distribution to understand the followings:\n",
    "\n",
    "1. How many people belong to certain age groups?\n",
    "2. How many people belong to groups of certain number of children?\n",
    "3. How many male and female are there?\n",
    "4. How many smoker and non-smoker are there?\n",
    "5. What is the regional distribution of people?\n",
    "\n",
    "The following frequency distributions are performed for to get a hold of the dataset\n",
    "\n",
    "*Grouped frequency distribution*\n",
    "- age\n",
    "- children\n",
    "\n",
    "*Ungrouped frequency distribution*\n",
    "- sex\n",
    "- smoker\n",
    "- region"
   ]
  },
  {
   "cell_type": "markdown",
   "metadata": {},
   "source": [
    "#### **2.1 Grouped frequency distribution**\n",
    "\n",
    "The class interval for grouped frequency is calculated as:\n",
    "\n",
    "$${Class~Interval} = \\frac{Upper~Bound-Lower~Bound}{Number~of~Classes}$$\n",
    "\n",
    "Where 'Upper Bound' is the highest number in the range and 'lower bound' is the least."
   ]
  },
  {
   "cell_type": "markdown",
   "metadata": {},
   "source": [
    "The following code block has the frequency distribution of *age*"
   ]
  },
  {
   "cell_type": "code",
   "execution_count": 95,
   "metadata": {},
   "outputs": [
    {
     "name": "stdout",
     "output_type": "stream",
     "text": [
      "Highest age: 64 \n",
      "Lowest age: 18\n",
      "Class interval: 5\n",
      "There are 250 people whose age is between 18 and 23.\n",
      "There are 167 people whose age is between 24 and 29.\n",
      "There are 157 people whose age is between 30 and 35.\n",
      "There are 154 people whose age is between 36 and 41.\n",
      "There are 168 people whose age is between 42 and 47.\n",
      "There are 172 people whose age is between 48 and 53.\n",
      "There are 156 people whose age is between 54 and 59.\n",
      "There are 114 people whose age is between 60 and 65.\n"
     ]
    }
   ],
   "source": [
    "# Frequency distribution of age\n",
    "\n",
    "highest_age, lowest_age = max(age), min(age)\n",
    "\n",
    "print(\"Highest age:\", highest_age, \"\\nLowest age:\", lowest_age)\n",
    "\n",
    "# Since the upper bound is 64 and lower bound is 18, number of classes should be 10\n",
    "num_classes = 10\n",
    "class_interval = round((highest_age-lowest_age)/num_classes)\n",
    "print(\"Class interval:\", class_interval)\n",
    "\n",
    "while lowest_age < highest_age:\n",
    "    counter = 0\n",
    "    for a in age:\n",
    "        if lowest_age <= a <= lowest_age+class_interval:\n",
    "            counter += 1\n",
    "    print(\"There are {} people whose age is between {} and {}.\".format(\n",
    "        counter, lowest_age, lowest_age+class_interval)\n",
    "    )\n",
    "    # Added 1 with class interval for going to next class\n",
    "    lowest_age += class_interval+1"
   ]
  },
  {
   "cell_type": "markdown",
   "metadata": {},
   "source": [
    "The following code block has the frequency distribution of *children*"
   ]
  },
  {
   "cell_type": "code",
   "execution_count": 96,
   "metadata": {},
   "outputs": [
    {
     "name": "stdout",
     "output_type": "stream",
     "text": [
      "Highest number of children: 5 \n",
      "Lowest number of children: 0\n",
      "Class interval: 1\n",
      "898 people have at least 0 and at best 1 children.\n",
      "564 people have at least 1 and at best 2 children.\n",
      "397 people have at least 2 and at best 3 children.\n",
      "182 people have at least 3 and at best 4 children.\n",
      "43 people have at least 4 and at best 5 children.\n"
     ]
    }
   ],
   "source": [
    "# Frequency distribution of children\n",
    "\n",
    "highest_children, lowest_children = max(children), min(children)\n",
    "\n",
    "print(\"Highest number of children:\", highest_children,\n",
    "      \"\\nLowest number of children:\", lowest_children)\n",
    "\n",
    "# Since the upper bound is 5 and lower bound is 0, number of classes should be 5\n",
    "num_classes = 5\n",
    "class_interval = round((highest_children-lowest_children)/num_classes)\n",
    "print(\"Class interval:\", class_interval)\n",
    "\n",
    "while lowest_children < highest_children:\n",
    "    counter = 0\n",
    "    for c in children:\n",
    "        if lowest_children <= c <= lowest_children+class_interval:\n",
    "            counter += 1\n",
    "    print(\"{} people have at least {} and at best {} children.\".format(counter, lowest_children, lowest_children+class_interval))\n",
    "    lowest_children += class_interval  # Added 1 with class interval for going to next class\n"
   ]
  },
  {
   "cell_type": "markdown",
   "metadata": {},
   "source": [
    "### **2.2 Ungrouped frequency distribution**\n",
    "\n",
    "The following code block contains frequency distribution of sex, smoker, and region"
   ]
  },
  {
   "cell_type": "code",
   "execution_count": 97,
   "metadata": {},
   "outputs": [
    {
     "name": "stdout",
     "output_type": "stream",
     "text": [
      "There are 676 (50.52%) male and 662 (49.48%) female among respondents.\n",
      "274 (20.48%) respondents are smokers and 1064 (79.52%) are not.\n",
      "Among the respondents, 324 (24.22%) number of people are from the northeast, 325 (24.29%) from northwest, 364 (27.2%) from southeast, 325 (24.29%) are from southwest region.\n"
     ]
    }
   ],
   "source": [
    "print(\"There are {} ({}%) male and {} ({}%) female among respondents.\".format(\n",
    "    sex.count(0), round(sex.count(0)*100/len(dataset), 2), sex.count(1), round(sex.count(1)*100/len(dataset), 2)))\n",
    "\n",
    "print(\"{} ({}%) respondents are smokers and {} ({}%) are not.\".format(\n",
    "    smoker.count(1), round(smoker.count(1)*100/len(dataset), 2), smoker.count(0), round(smoker.count(0)*100/len(dataset), 2)))\n",
    "print(\"Among the respondents, {} ({}%) number of people are from the northeast, {} ({}%) from northwest, {} ({}%) from southeast, {} ({}%) are from southwest region.\".format(\n",
    "    regions.count(1), round(regions.count(1)*100/len(dataset), 2), regions.count(2), round(regions.count(2)*100/len(dataset), 2), regions.count(3), round(regions.count(3)*100/len(dataset), 2), regions.count(4), round(regions.count(4)*100/len(dataset), 2)))"
   ]
  }
 ],
 "metadata": {
  "kernelspec": {
   "display_name": "Python 3",
   "language": "python",
   "name": "python3"
  },
  "language_info": {
   "codemirror_mode": {
    "name": "ipython",
    "version": 3
   },
   "file_extension": ".py",
   "mimetype": "text/x-python",
   "name": "python",
   "nbconvert_exporter": "python",
   "pygments_lexer": "ipython3",
   "version": "3.10.12"
  }
 },
 "nbformat": 4,
 "nbformat_minor": 4
}
